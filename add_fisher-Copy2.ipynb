{
 "cells": [
  {
   "cell_type": "code",
   "execution_count": 1,
   "metadata": {},
   "outputs": [],
   "source": [
    "from tomographic_lensing import *\n",
    "from CovMat import *\n",
    "import gc"
   ]
  },
  {
   "cell_type": "code",
   "execution_count": 2,
   "metadata": {},
   "outputs": [],
   "source": [
    "# Input Cosmology object with a given set of parameters\n",
    "cosmo = ccl.Cosmology(Omega_c=0.27, Omega_b=0.045, h=0.67, sigma8=0.8, n_s=0.96, transfer_function='bbks')\n",
    "\n",
    "elll = np.arange(2, 10001)"
   ]
  },
  {
   "cell_type": "code",
   "execution_count": 3,
   "metadata": {},
   "outputs": [],
   "source": [
    "dndz1=GalaxyDistr(zi=0.0, zf=4.0, n_eff=10.024, z0=0.13, alpha=0.78)\n",
    "#n_eff is chosen from the last column of Table F1,\"https://arxiv.org/abs/1809.01669\" LSST Science Requirements Document\n",
    "#z0 and alpha are from Figure F4, Y1 of the same document"
   ]
  },
  {
   "cell_type": "code",
   "execution_count": 4,
   "metadata": {},
   "outputs": [],
   "source": [
    "arcmin_per_str=(180*60/np.pi)**2\n",
    "#how many square arcminutes are there in a steradian \n",
    "num_den_per_str = arcmin_per_str*10/0.28**2"
   ]
  },
  {
   "cell_type": "code",
   "execution_count": 5,
   "metadata": {},
   "outputs": [],
   "source": [
    "#dividing the galaxy distribution into 8 redshift bins\n",
    "#Z stands for dividing into bins of equal redshifts\n",
    "#N stands for dividing into bins of equal number of galaxies\n",
    "\n",
    "redshifts = {} #initializing redshift dictionary \n",
    "cl = {} \n",
    "cov = {}\n",
    "\n",
    "\n",
    "for rbin_type in [\"z\", \"n\"]:\n",
    "    cov[\"{}_5\".format(rbin_type)], cl[\"{}_5\".format(rbin_type)], redshifts[\"{}_5\".format(rbin_type)] = getDataArray(rbins = 5, rbin_type = rbin_type, cosmo = cosmo, dndz = dndz1, ell = elll, fsky = 0.4, num_den_per_str = num_den_per_str)"
   ]
  },
  {
   "cell_type": "code",
   "execution_count": 6,
   "metadata": {},
   "outputs": [
    {
     "data": {
      "text/plain": [
       "[0.0,\n",
       " 0.3508771929824561,\n",
       " 0.5513784461152882,\n",
       " 0.7719298245614035,\n",
       " 1.112781954887218,\n",
       " 3.989974937343358]"
      ]
     },
     "execution_count": 6,
     "metadata": {},
     "output_type": "execute_result"
    }
   ],
   "source": [
    "redshifts[\"n_5\"]"
   ]
  },
  {
   "cell_type": "code",
   "execution_count": 8,
   "metadata": {},
   "outputs": [],
   "source": [
    "#find derivatives of data array\n",
    "#try with 5 bins, and \"known\" galaxy redshift distribution first\n",
    "#consider only equal galaxy number bins for now\n",
    "\n",
    "def getC_ellOfSigma8(sigma8):\n",
    "    \"\"\"create derivatives of cl w.r.t to Sigma8\"\"\"\n",
    "    cosmo = ccl.Cosmology(Omega_c=0.27, Omega_b=0.045, h=0.67, sigma8=sigma8, n_s=0.96, transfer_function='bbks')\n",
    "    lens, redshifts = CreatelensN(n_bins = 5, dndz = dndz1, cosmo = cosmo)\n",
    "    Cl = getLensingCRmatrix(lenses = lens, ell = elll, cosmo = cosmo)\n",
    "    cl = []\n",
    "    for j in range(5):\n",
    "        cl.extend(Cl[j, j+i] for i in range(5-j))\n",
    "    cl_arr = np.array(cl)\n",
    "    return cl_arr\n",
    "\n",
    "def getC_ellOfOmegab(Omega_b):\n",
    "    cosmo = ccl.Cosmology(Omega_c=0.27, Omega_b=Omega_b, h=0.67, sigma8=0.8, n_s=0.96, transfer_function='bbks')\n",
    "    lens, redshifts = CreatelensN(n_bins = 5, dndz = dndz1, cosmo = cosmo)\n",
    "    Cl = getLensingCRmatrix(lenses = lens, ell = elll, cosmo = cosmo)\n",
    "    cl = []\n",
    "    for j in range(5):\n",
    "        cl.extend(Cl[j, j+i] for i in range(5-j))\n",
    "    cl_arr = np.array(cl)\n",
    "    return cl_arr\n",
    "\n",
    "def getC_ellOfh(h):\n",
    "    cosmo = ccl.Cosmology(Omega_c=0.27, Omega_b=0.045, h=h, sigma8=0.8, n_s=0.96, transfer_function='bbks')\n",
    "    lens, redshifts = CreatelensN(n_bins = 5, dndz = dndz1, cosmo = cosmo)\n",
    "    Cl = getLensingCRmatrix(lenses = lens, ell = elll, cosmo = cosmo)\n",
    "    cl = []\n",
    "    for j in range(5):\n",
    "        cl.extend(Cl[j, j+i] for i in range(5-j))\n",
    "    cl_arr = np.array(cl)\n",
    "    return cl_arr\n",
    "\n",
    "def getC_ellOfn_s(n_s):\n",
    "    cosmo = ccl.Cosmology(Omega_c=0.27, Omega_b=0.045, h=0.67, sigma8=0.8, n_s=n_s, transfer_function='bbks')\n",
    "    lens, redshifts = CreatelensN(n_bins = 5, dndz = dndz1, cosmo = cosmo)\n",
    "    Cl = getLensingCRmatrix(lenses = lens, ell = elll, cosmo = cosmo)\n",
    "    cl = []\n",
    "    for j in range(5):\n",
    "        cl.extend(Cl[j, j+i] for i in range(5-j))\n",
    "    cl_arr = np.array(cl)\n",
    "    return cl_arr\n",
    "\n",
    "def getC_ellOfOmegam(Omega_m):\n",
    "    cosmo = ccl.Cosmology(Omega_c= Omega_m-0.045, Omega_b=0.045, h=0.67, sigma8=0.8, n_s=0.96, transfer_function='bbks')\n",
    "    lens, redshifts = CreatelensN(n_bins = 5, dndz = dndz1, cosmo = cosmo)\n",
    "    Cl = getLensingCRmatrix(lenses = lens, ell = elll, cosmo = cosmo)\n",
    "    cl = []\n",
    "    for j in range(5):\n",
    "        cl.extend(Cl[j, j+i] for i in range(5-j))\n",
    "    cl_arr = np.array(cl)\n",
    "    return cl_arr\n",
    "\n",
    "def getC_ellOfw0(w_0):\n",
    "    cosmo = ccl.Cosmology(Omega_c=0.27, Omega_b=0.045, h=0.67, sigma8=0.8, n_s=0.96, w0=w_0, transfer_function='bbks')\n",
    "    lens, redshifts = CreatelensN(n_bins = 5, dndz = dndz1, cosmo = cosmo)\n",
    "    Cl = getLensingCRmatrix(lenses = lens, ell = elll, cosmo = cosmo)\n",
    "    cl = []\n",
    "    for j in range(5):\n",
    "        cl.extend(Cl[j, j+i] for i in range(5-j))\n",
    "    cl_arr = np.array(cl)\n",
    "    return cl_arr\n",
    "\n",
    "def getC_ellOfwa(w_a):\n",
    "    cosmo = ccl.Cosmology(Omega_c=0.27, Omega_b=0.045, h=0.67, sigma8=0.8, n_s=0.96,wa=w_a, transfer_function='bbks') \n",
    "    lens, redshifts = CreatelensN(n_bins = 5, dndz = dndz1, cosmo = cosmo)\n",
    "    Cl = getLensingCRmatrix(lenses = lens, ell = elll, cosmo = cosmo)\n",
    "    cl = []\n",
    "    for j in range(5):\n",
    "        cl.extend(Cl[j, j+i] for i in range(5-j))\n",
    "    cl_arr = np.array(cl)\n",
    "    return cl_arr\n"
   ]
  },
  {
   "cell_type": "code",
   "execution_count": 9,
   "metadata": {},
   "outputs": [],
   "source": [
    "funcs = {\n",
    "    'sigma_8': getC_ellOfSigma8,\n",
    "    'omega_b': getC_ellOfOmegab,\n",
    "    'h': getC_ellOfh,\n",
    "    'n_s': getC_ellOfn_s,\n",
    "    'omega_m': getC_ellOfOmegam,\n",
    "    'w_0': getC_ellOfw0,\n",
    "    'w_a': getC_ellOfwa\n",
    "}\n",
    "vals = {\n",
    "    'sigma_8': 0.8, \n",
    "    'omega_b': 0.045, \n",
    "    'h': 0.67, \n",
    "    'n_s': 0.96, \n",
    "    'omega_m': 0.315,\n",
    "    'w_0': -1,\n",
    "    'w_a': 0\n",
    "}"
   ]
  },
  {
   "cell_type": "code",
   "execution_count": 10,
   "metadata": {},
   "outputs": [],
   "source": [
    "import numdifftools as nd"
   ]
  },
  {
   "cell_type": "code",
   "execution_count": 11,
   "metadata": {},
   "outputs": [
    {
     "name": "stdout",
     "output_type": "stream",
     "text": [
      "Help on class Derivative in module numdifftools.core:\n",
      "\n",
      "class Derivative(numdifftools.limits._Limit)\n",
      " |  Derivative(fun, step=None, method='central', order=2, n=1, full_output=False, **step_options)\n",
      " |  \n",
      " |  Calculate n-th derivative with finite difference approximation\n",
      " |  \n",
      " |  Parameters\n",
      " |  ----------\n",
      " |  fun : function\n",
      " |     function of one array fun(x, `*args`, `**kwds`)\n",
      " |  step : float, array-like or StepGenerator object, optional\n",
      " |      Defines the spacing used in the approximation.\n",
      " |      Default is MinStepGenerator(base_step=step, step_ratio=None,\n",
      " |                                 num_extrap=0, **step_options)\n",
      " |      if step or method in in ['complex', 'multicomplex'],\n",
      " |      otherwise\n",
      " |          MaxStepGenerator(step_ratio=None, num_extrap=14, **step_options)\n",
      " |      The results are extrapolated if the StepGenerator generate more than 3\n",
      " |      steps.\n",
      " |  method : {'central', 'complex', 'multicomplex', 'forward', 'backward'}\n",
      " |      defines the method used in the approximation\n",
      " |  order : int, optional\n",
      " |      defines the order of the error term in the Taylor approximation used.\n",
      " |      For 'central' and 'complex' methods, it must be an even number.\n",
      " |  n : int, optional\n",
      " |      Order of the derivative.\n",
      " |  full_output : bool, optional\n",
      " |      If `full_output` is False, only the derivative is returned.\n",
      " |      If `full_output` is True, then (der, r) is returned `der` is the\n",
      " |      derivative, and `r` is a Results object.\n",
      " |  **step_options:\n",
      " |      options to pass on to the XXXStepGenerator used.\n",
      " |  \n",
      " |  Methods\n",
      " |  -------\n",
      " |  __call__ : callable with the following parameters:\n",
      " |      x : array_like\n",
      " |          value at which function derivative is evaluated\n",
      " |      args : tuple\n",
      " |          Arguments for function `fun`.\n",
      " |      kwds : dict\n",
      " |          Keyword arguments for function `fun`.\n",
      " |  \n",
      " |  Returns\n",
      " |  -------\n",
      " |  der : ndarray\n",
      " |     array of derivatives\n",
      " |  \n",
      " |  Notes\n",
      " |  -----\n",
      " |  Complex methods are usually the most accurate provided the function to\n",
      " |  differentiate is analytic. The complex-step methods also requires fewer\n",
      " |  steps than the other methods and can work very close to the support of\n",
      " |  a function.\n",
      " |  The complex-step derivative has truncation error O(steps**2) for `n=1` and\n",
      " |  O(steps**4) for `n` larger, so truncation error can be eliminated by\n",
      " |  choosing steps to be very small.\n",
      " |  Especially the first order complex-step derivative avoids the problem of\n",
      " |  round-off error with small steps because there is no subtraction. However,\n",
      " |  this method fails if fun(x) does not support complex numbers or involves\n",
      " |  non-analytic functions such as e.g.: abs, max, min.\n",
      " |  Central difference methods are almost as accurate and has no restriction on\n",
      " |  type of function. For this reason the 'central' method is the default\n",
      " |  method, but sometimes one can only allow evaluation in forward or backward\n",
      " |  direction.\n",
      " |  \n",
      " |  For all methods one should be careful in decreasing the step size too much\n",
      " |  due to round-off errors.\n",
      " |  \n",
      " |  Higher order approximation methods will generally be more accurate, but may\n",
      " |  also suffer more from numerical problems. First order methods is usually\n",
      " |  not recommended.\n",
      " |  \n",
      " |  References\n",
      " |  ----------\n",
      " |  Ridout, M.S. (2009) Statistical applications of the complex-step method\n",
      " |      of numerical differentiation. The American Statistician, 63, 66-74\n",
      " |  \n",
      " |  K.-L. Lai, J.L. Crassidis, Y. Cheng, J. Kim (2005), New complex step\n",
      " |      derivative approximations with application to second-order\n",
      " |      kalman filtering, AIAA Guidance, Navigation and Control Conference,\n",
      " |      San Francisco, California, August 2005, AIAA-2005-5944.\n",
      " |  \n",
      " |  Lyness, J. M., Moler, C. B. (1966). Vandermonde Systems and Numerical\n",
      " |                   Differentiation. *Numerische Mathematik*.\n",
      " |  \n",
      " |  Lyness, J. M., Moler, C. B. (1969). Generalized Romberg Methods for\n",
      " |                   Integrals of Derivatives. *Numerische Mathematik*.\n",
      " |  \n",
      " |  Examples\n",
      " |  --------\n",
      " |  >>> import numpy as np\n",
      " |  >>> import numdifftools as nd\n",
      " |  \n",
      " |  # 1'st derivative of exp(x), at x == 1\n",
      " |  \n",
      " |  >>> fd = nd.Derivative(np.exp)\n",
      " |  >>> np.allclose(fd(1), 2.71828183)\n",
      " |  True\n",
      " |  \n",
      " |  >>> d2 = fd([1, 2])\n",
      " |  >>> np.allclose(d2, [ 2.71828183,  7.3890561 ])\n",
      " |  True\n",
      " |  \n",
      " |  >>> def f(x):\n",
      " |  ...     return x**3 + x**2\n",
      " |  \n",
      " |  >>> df = nd.Derivative(f)\n",
      " |  >>> np.allclose(df(1), 5)\n",
      " |  True\n",
      " |  >>> ddf = nd.Derivative(f, n=2)\n",
      " |  >>> np.allclose(ddf(1), 8)\n",
      " |  True\n",
      " |  \n",
      " |  \n",
      " |  See also\n",
      " |  --------\n",
      " |  Gradient,\n",
      " |  Hessian\n",
      " |  \n",
      " |  Method resolution order:\n",
      " |      Derivative\n",
      " |      numdifftools.limits._Limit\n",
      " |      builtins.object\n",
      " |  \n",
      " |  Methods defined here:\n",
      " |  \n",
      " |  __call__(self, x, *args, **kwds)\n",
      " |      Call self as a function.\n",
      " |  \n",
      " |  __init__(self, fun, step=None, method='central', order=2, n=1, full_output=False, **step_options)\n",
      " |      Initialize self.  See help(type(self)) for accurate signature.\n",
      " |  \n",
      " |  set_richardson_rule(self, step_ratio, num_terms=2)\n",
      " |  \n",
      " |  ----------------------------------------------------------------------\n",
      " |  Data descriptors defined here:\n",
      " |  \n",
      " |  n\n",
      " |  \n",
      " |  ----------------------------------------------------------------------\n",
      " |  Data descriptors inherited from numdifftools.limits._Limit:\n",
      " |  \n",
      " |  __dict__\n",
      " |      dictionary for instance variables (if defined)\n",
      " |  \n",
      " |  __weakref__\n",
      " |      list of weak references to the object (if defined)\n",
      " |  \n",
      " |  step\n",
      " |  \n",
      " |  ----------------------------------------------------------------------\n",
      " |  Data and other attributes inherited from numdifftools.limits._Limit:\n",
      " |  \n",
      " |  info = <class 'numdifftools.limits.info'>\n",
      " |      info(error_estimate, final_step, index)\n",
      "\n"
     ]
    }
   ],
   "source": [
    "help(nd.Derivative)"
   ]
  },
  {
   "cell_type": "code",
   "execution_count": 12,
   "metadata": {},
   "outputs": [
    {
     "name": "stdout",
     "output_type": "stream",
     "text": [
      "sigma_8\n",
      "omega_b\n",
      "h\n",
      "n_s\n",
      "omega_m\n",
      "w_0\n",
      "w_a\n"
     ]
    }
   ],
   "source": [
    "derivs_sig = {}\n",
    "for var in funcs.keys():\n",
    "    print(var)\n",
    "    if var == 'w_a':\n",
    "        f = nd.Derivative(funcs[var], full_output=True, step=0.1)\n",
    "    else:\n",
    "        f = nd.Derivative(funcs[var], full_output=True, step=var/10)\n",
    "    val, info = f(vals[var])\n",
    "    derivs_sig[var] = val"
   ]
  },
  {
   "cell_type": "code",
   "execution_count": 13,
   "metadata": {},
   "outputs": [
    {
     "data": {
      "text/plain": [
       "(15, 9999)"
      ]
     },
     "execution_count": 13,
     "metadata": {},
     "output_type": "execute_result"
    }
   ],
   "source": [
    "derivs_sig[\"h\"].shape"
   ]
  },
  {
   "cell_type": "code",
   "execution_count": 14,
   "metadata": {},
   "outputs": [
    {
     "data": {
      "text/plain": [
       "(15, 15)"
      ]
     },
     "execution_count": 14,
     "metadata": {},
     "output_type": "execute_result"
    }
   ],
   "source": [
    "cov[\"n_5\"][1].shape"
   ]
  },
  {
   "cell_type": "code",
   "execution_count": 15,
   "metadata": {},
   "outputs": [
    {
     "data": {
      "text/plain": [
       "(15,)"
      ]
     },
     "execution_count": 15,
     "metadata": {},
     "output_type": "execute_result"
    }
   ],
   "source": [
    "cl[\"n_5\"][:, 2].shape"
   ]
  },
  {
   "cell_type": "code",
   "execution_count": 16,
   "metadata": {},
   "outputs": [
    {
     "data": {
      "text/plain": [
       "(15, 9999)"
      ]
     },
     "execution_count": 16,
     "metadata": {},
     "output_type": "execute_result"
    }
   ],
   "source": [
    "cl[\"n_5\"].shape"
   ]
  },
  {
   "cell_type": "code",
   "execution_count": 17,
   "metadata": {},
   "outputs": [],
   "source": [
    "param_order = ['omega_m', 'sigma_8', 'n_s', 'w_0', 'w_a', 'omega_b', 'h']\n",
    "param_labels = [r'$\\Omega_m$', r'$\\sigma_8$', r'$n_s$', r'$w_0$', r'$w_a$', r'$\\Omega_b$', r'$h$']\n",
    "fisher = np.zeros((7,7))\n",
    "for i, var1 in enumerate(param_order):\n",
    "    for j, var2 in enumerate(param_order):\n",
    "        f = []\n",
    "        for l in range(derivs_sig[var1].shape[1]):\n",
    "            res = derivs_sig[var1][:, l].T @ np.linalg.inv(cov[\"n_5\"][l]) @ derivs_sig[var2][:, l]\n",
    "            f.append(res)\n",
    "        fisher[i][j] = sum(f)"
   ]
  },
  {
   "cell_type": "code",
   "execution_count": 18,
   "metadata": {},
   "outputs": [
    {
     "data": {
      "text/plain": [
       "array([[ 1.60990470e+07,  1.09523171e+07,  3.10699510e+06,\n",
       "        -6.12709861e+05, -1.79297593e+05,  1.10055300e+07,\n",
       "         1.49343794e+06],\n",
       "       [ 1.09523171e+07,  7.64982907e+06,  2.00078396e+06,\n",
       "        -4.27993570e+05, -1.26634273e+05,  7.57914324e+06,\n",
       "         9.89121350e+05],\n",
       "       [ 3.10699510e+06,  2.00078396e+06,  7.93009512e+05,\n",
       "        -1.04750796e+05, -3.28040684e+04,  1.90800392e+06,\n",
       "         3.51457613e+05],\n",
       "       [-6.12709861e+05, -4.27993570e+05, -1.04750796e+05,\n",
       "         2.55081810e+04,  7.36793671e+03, -4.33363789e+05,\n",
       "        -5.25944935e+04],\n",
       "       [-1.79297593e+05, -1.26634273e+05, -3.28040684e+04,\n",
       "         7.36793671e+03,  2.22632334e+03, -1.23568117e+05,\n",
       "        -1.63430023e+04],\n",
       "       [ 1.10055300e+07,  7.57914324e+06,  1.90800392e+06,\n",
       "        -4.33363789e+05, -1.23568117e+05,  7.82623530e+06,\n",
       "         9.32284767e+05],\n",
       "       [ 1.49343794e+06,  9.89121350e+05,  3.51457613e+05,\n",
       "        -5.25944935e+04, -1.63430023e+04,  9.32284767e+05,\n",
       "         1.64501807e+05]])"
      ]
     },
     "execution_count": 18,
     "metadata": {},
     "output_type": "execute_result"
    }
   ],
   "source": [
    "fisher"
   ]
  },
  {
   "cell_type": "code",
   "execution_count": 19,
   "metadata": {},
   "outputs": [],
   "source": [
    "def FoM(matrix):\n",
    "    return np.sqrt(np.linalg.det(matrix))"
   ]
  },
  {
   "cell_type": "code",
   "execution_count": 20,
   "metadata": {},
   "outputs": [
    {
     "data": {
      "text/plain": [
       "<matplotlib.image.AxesImage at 0x7fdcf94f3350>"
      ]
     },
     "execution_count": 20,
     "metadata": {},
     "output_type": "execute_result"
    },
    {
     "data": {
      "image/png": "[encoded data removed]",
      "text/plain": [
       "<Figure size 5400x3600 with 1 Axes>"
      ]
     },
     "metadata": {
      "needs_background": "light"
     },
     "output_type": "display_data"
    }
   ],
   "source": [
    "plt.imshow(fisher)"
   ]
  },
  {
   "cell_type": "code",
   "execution_count": 21,
   "metadata": {},
   "outputs": [],
   "source": [
    "#generalize this"
   ]
  }
 ],
 "metadata": {
  "kernelspec": {
   "display_name": "Python 3",
   "language": "python",
   "name": "python3"
  },
  "language_info": {
   "codemirror_mode": {
    "name": "ipython",
    "version": 3
   },
   "file_extension": ".py",
   "mimetype": "text/x-python",
   "name": "python",
   "nbconvert_exporter": "python",
   "pygments_lexer": "ipython3",
   "version": "3.7.6"
  }
 },
 "nbformat": 4,
 "nbformat_minor": 4
}
